{
 "cells": [
  {
   "cell_type": "markdown",
   "metadata": {},
   "source": [
    "#Census Tract Socio Demographic features of working population in New York City (Analysis  based on LEHD 2014 Origin-Destination Data)"
   ]
  },
  {
   "cell_type": "markdown",
   "metadata": {},
   "source": [
    "The main purpose of this notebook, is to get the approximate statistics on certain demographic features of New York City workers by Census tracts, based on their residence location. \n",
    "\n",
    "LEHD dataset provides information about the number of workers comming from a given census block to each census block in New York City. Specifically, the datasets used in our analysis are: 'ny_od_main_JT00_2014.csv' (information about workers in New YorkThe  State with residence in New York State) and 'ny_od_aux_JT00_2014.csv' (information about workers in New York State with residence outside the State).\n",
    "\n",
    "As a first step, an exploratory analysis is performed. The goal of this exploration is to find from which states and counties the working population is comming to work in NYC everyday. Using the geocode of this counties, socio-demographic features are downloaded from Social Explorer (Census Data) and then merged again with the LEHD data set.\n",
    "\n",
    "Each pair of census blocks (residence CB and workplace CB) has the information about the number of workers. This data is aggregated by census tract and then a weighted sum is performed for each feature and each census block.\n",
    "\n",
    "Let $\\text{ w _ geo }_i$ be the geocode of the working place (where $i=1, ... ,m$), and $\\text{ h _ geo }_j$ be the geocode of the residence place (where $j=1, ... ,n$), the LEHD data structure can be seen as follows:\n",
    "\n",
    "$$\\text{ w _ geo }_i \\left\\{\\begin{matrix}\n",
    "\\text{ h_ geo }_1 & n_{i,1} \\\\ \n",
    "\\text{ h_ geo }_2 & n_{i,2}\\\\ \n",
    "... & ... \\\\ \n",
    "\\text{ h_ geo }_m & n_{i,m}\n",
    "\\end{matrix}\\right.$$ where $n_{i,j}$ is the number of workers commuting from $\\text{ h_ geo }_j$ to $\\text{ w _ geo }_i$\n",
    "\n",
    "\n",
    "From Census Data, we get a collection of $k=1, ... , l$ socio-demographic features for each census tract $\\text{ h_ geo }_j$. Lets name each of this features as: $Pc_k ( \\text{ h_ geo }_j ) := Pc_{k,j}$, and $\\bar{Pc_{k,j}}$ its normalized version.\n",
    "\n",
    "The goal is to get an approximate of each of this features for each $\\text{ w_ geo }_i$. Let $F_k (\\text{ w_ geo }_i)$ be the approximate number of workers which workplace is in $\\text{ w_ geo }_i$, in the $k$ socio-demographic cathegory. \n",
    "\n",
    "Then,  $$F_k (\\text{ w_ geo }_i)  = \\sum_{j} \\overline{Pc_{kj}} * n_{i,j} $$ for each $\\text{ w_ geo }_i$ and for each socio-demographic indicator $k$."
   ]
  },
  {
   "cell_type": "code",
   "execution_count": 8,
   "metadata": {
    "collapsed": true
   },
   "outputs": [],
   "source": [
    "import numpy as np\n",
    "import pandas as pd"
   ]
  },
  {
   "cell_type": "markdown",
   "metadata": {},
   "source": [
    "There are two different Origin-Destination files 'main' and 'aux'. The first one contains h_geocodes inside NY state, while the 'aux' file contain resident's blocks outisde NY. First, we are going to combine both sets. "
   ]
  },
  {
   "cell_type": "code",
   "execution_count": 9,
   "metadata": {
    "collapsed": false
   },
   "outputs": [],
   "source": [
    "LEHD_original=pd.read_csv('datasets/ny_od_main_JT00_2014.csv')"
   ]
  },
  {
   "cell_type": "code",
   "execution_count": 10,
   "metadata": {
    "collapsed": false
   },
   "outputs": [
    {
     "name": "stdout",
     "output_type": "stream",
     "text": [
      "(6989032, 13)\n"
     ]
    },
    {
     "data": {
      "text/html": [
       "<div>\n",
       "<table border=\"1\" class=\"dataframe\">\n",
       "  <thead>\n",
       "    <tr style=\"text-align: right;\">\n",
       "      <th></th>\n",
       "      <th>w_geocode</th>\n",
       "      <th>h_geocode</th>\n",
       "      <th>S000</th>\n",
       "      <th>SA01</th>\n",
       "      <th>SA02</th>\n",
       "      <th>SA03</th>\n",
       "      <th>SE01</th>\n",
       "      <th>SE02</th>\n",
       "      <th>SE03</th>\n",
       "      <th>SI01</th>\n",
       "      <th>SI02</th>\n",
       "      <th>SI03</th>\n",
       "      <th>createdate</th>\n",
       "    </tr>\n",
       "  </thead>\n",
       "  <tbody>\n",
       "    <tr>\n",
       "      <th>0</th>\n",
       "      <td>360010001001004</td>\n",
       "      <td>360010137054014</td>\n",
       "      <td>1</td>\n",
       "      <td>0</td>\n",
       "      <td>0</td>\n",
       "      <td>1</td>\n",
       "      <td>0</td>\n",
       "      <td>0</td>\n",
       "      <td>1</td>\n",
       "      <td>0</td>\n",
       "      <td>1</td>\n",
       "      <td>0</td>\n",
       "      <td>20160219</td>\n",
       "    </tr>\n",
       "    <tr>\n",
       "      <th>1</th>\n",
       "      <td>360010001001004</td>\n",
       "      <td>360010138023000</td>\n",
       "      <td>1</td>\n",
       "      <td>0</td>\n",
       "      <td>0</td>\n",
       "      <td>1</td>\n",
       "      <td>0</td>\n",
       "      <td>0</td>\n",
       "      <td>1</td>\n",
       "      <td>0</td>\n",
       "      <td>1</td>\n",
       "      <td>0</td>\n",
       "      <td>20160219</td>\n",
       "    </tr>\n",
       "    <tr>\n",
       "      <th>2</th>\n",
       "      <td>360010001001004</td>\n",
       "      <td>360830522041091</td>\n",
       "      <td>1</td>\n",
       "      <td>0</td>\n",
       "      <td>1</td>\n",
       "      <td>0</td>\n",
       "      <td>0</td>\n",
       "      <td>0</td>\n",
       "      <td>1</td>\n",
       "      <td>0</td>\n",
       "      <td>1</td>\n",
       "      <td>0</td>\n",
       "      <td>20160219</td>\n",
       "    </tr>\n",
       "    <tr>\n",
       "      <th>3</th>\n",
       "      <td>360010001001004</td>\n",
       "      <td>360910627001014</td>\n",
       "      <td>1</td>\n",
       "      <td>0</td>\n",
       "      <td>1</td>\n",
       "      <td>0</td>\n",
       "      <td>0</td>\n",
       "      <td>0</td>\n",
       "      <td>1</td>\n",
       "      <td>0</td>\n",
       "      <td>1</td>\n",
       "      <td>0</td>\n",
       "      <td>20160219</td>\n",
       "    </tr>\n",
       "    <tr>\n",
       "      <th>4</th>\n",
       "      <td>360010001001005</td>\n",
       "      <td>360010001001023</td>\n",
       "      <td>1</td>\n",
       "      <td>0</td>\n",
       "      <td>1</td>\n",
       "      <td>0</td>\n",
       "      <td>0</td>\n",
       "      <td>1</td>\n",
       "      <td>0</td>\n",
       "      <td>0</td>\n",
       "      <td>1</td>\n",
       "      <td>0</td>\n",
       "      <td>20160219</td>\n",
       "    </tr>\n",
       "  </tbody>\n",
       "</table>\n",
       "</div>"
      ],
      "text/plain": [
       "         w_geocode        h_geocode  S000  SA01  SA02  SA03  SE01  SE02  SE03  \\\n",
       "0  360010001001004  360010137054014     1     0     0     1     0     0     1   \n",
       "1  360010001001004  360010138023000     1     0     0     1     0     0     1   \n",
       "2  360010001001004  360830522041091     1     0     1     0     0     0     1   \n",
       "3  360010001001004  360910627001014     1     0     1     0     0     0     1   \n",
       "4  360010001001005  360010001001023     1     0     1     0     0     1     0   \n",
       "\n",
       "   SI01  SI02  SI03  createdate  \n",
       "0     0     1     0    20160219  \n",
       "1     0     1     0    20160219  \n",
       "2     0     1     0    20160219  \n",
       "3     0     1     0    20160219  \n",
       "4     0     1     0    20160219  "
      ]
     },
     "execution_count": 10,
     "metadata": {},
     "output_type": "execute_result"
    }
   ],
   "source": [
    "print LEHD_original.shape\n",
    "LEHD_original.head()"
   ]
  },
  {
   "cell_type": "code",
   "execution_count": 11,
   "metadata": {
    "collapsed": true
   },
   "outputs": [],
   "source": [
    "LEHD_original2=LEHD_original[['w_geocode','h_geocode','S000']]"
   ]
  },
  {
   "cell_type": "code",
   "execution_count": 12,
   "metadata": {
    "collapsed": false
   },
   "outputs": [
    {
     "data": {
      "text/html": [
       "<div>\n",
       "<table border=\"1\" class=\"dataframe\">\n",
       "  <thead>\n",
       "    <tr style=\"text-align: right;\">\n",
       "      <th></th>\n",
       "      <th>w_geocode</th>\n",
       "      <th>h_geocode</th>\n",
       "      <th>S000</th>\n",
       "    </tr>\n",
       "  </thead>\n",
       "  <tbody>\n",
       "    <tr>\n",
       "      <th>0</th>\n",
       "      <td>360010001001006</td>\n",
       "      <td>250039009005009</td>\n",
       "      <td>1</td>\n",
       "    </tr>\n",
       "    <tr>\n",
       "      <th>1</th>\n",
       "      <td>360010001001008</td>\n",
       "      <td>60590879011008</td>\n",
       "      <td>1</td>\n",
       "    </tr>\n",
       "    <tr>\n",
       "      <th>2</th>\n",
       "      <td>360010001001008</td>\n",
       "      <td>60590997023009</td>\n",
       "      <td>1</td>\n",
       "    </tr>\n",
       "    <tr>\n",
       "      <th>3</th>\n",
       "      <td>360010001001008</td>\n",
       "      <td>90012301002025</td>\n",
       "      <td>1</td>\n",
       "    </tr>\n",
       "    <tr>\n",
       "      <th>4</th>\n",
       "      <td>360010001001008</td>\n",
       "      <td>250039231002006</td>\n",
       "      <td>1</td>\n",
       "    </tr>\n",
       "  </tbody>\n",
       "</table>\n",
       "</div>"
      ],
      "text/plain": [
       "         w_geocode        h_geocode  S000\n",
       "0  360010001001006  250039009005009     1\n",
       "1  360010001001008   60590879011008     1\n",
       "2  360010001001008   60590997023009     1\n",
       "3  360010001001008   90012301002025     1\n",
       "4  360010001001008  250039231002006     1"
      ]
     },
     "execution_count": 12,
     "metadata": {},
     "output_type": "execute_result"
    }
   ],
   "source": [
    "LEHD_aux=pd.read_csv('datasets/ny_od_aux_JT00_2014.csv')\n",
    "LEHD_aux2=LEHD_aux[['w_geocode','h_geocode','S000']]\n",
    "LEHD_aux2.head()"
   ]
  },
  {
   "cell_type": "code",
   "execution_count": 13,
   "metadata": {
    "collapsed": false
   },
   "outputs": [
    {
     "name": "stdout",
     "output_type": "stream",
     "text": [
      "7673034 6989032 684002\n"
     ]
    }
   ],
   "source": [
    "LEHD_complete=LEHD_original2.append(LEHD_aux2)\n",
    "print len(LEHD_complete),len(LEHD_original2),len(LEHD_aux2)"
   ]
  },
  {
   "cell_type": "markdown",
   "metadata": {},
   "source": [
    "Now, the LEHD_complete dataset is going to be subseted for getting workplaces inside New York City"
   ]
  },
  {
   "cell_type": "code",
   "execution_count": 14,
   "metadata": {
    "collapsed": true
   },
   "outputs": [],
   "source": [
    "#SI 085 - 5\n",
    "#QN 081 - 4\n",
    "#BX 005 - 2\n",
    "#BK 047 - 3\n",
    "#MN 061 - 1"
   ]
  },
  {
   "cell_type": "code",
   "execution_count": 15,
   "metadata": {
    "collapsed": true
   },
   "outputs": [],
   "source": [
    "#LEHD_complete['h_state_code']=map(lambda x: str(x)[0:2],LEHD_complete.h_geocode)    #origin state code\n",
    "#LEHD_complete['h_county_code']=map(lambda x: str(x)[2:5],LEHD_complete.h_geocode)  #origin county code\n",
    "#LEHD_complete['h_ct_code']=map(lambda x: str(x)[5:11],LEHD_complete.h_geocode)     #origin census tract\n",
    "LEHD_complete['w_county_code']=map(lambda x: str(x)[2:5],LEHD_complete.w_geocode)   #destination county code\n",
    "#LEHD_complete['w_ct_code']=map(lambda x: str(x)[5:11],LEHD_complete.w_geocode)     #destination census tract"
   ]
  },
  {
   "cell_type": "code",
   "execution_count": 16,
   "metadata": {
    "collapsed": false
   },
   "outputs": [
    {
     "data": {
      "text/html": [
       "<div>\n",
       "<table border=\"1\" class=\"dataframe\">\n",
       "  <thead>\n",
       "    <tr style=\"text-align: right;\">\n",
       "      <th></th>\n",
       "      <th>w_geocode</th>\n",
       "      <th>h_geocode</th>\n",
       "      <th>S000</th>\n",
       "      <th>w_county_code</th>\n",
       "    </tr>\n",
       "  </thead>\n",
       "  <tbody>\n",
       "    <tr>\n",
       "      <th>0</th>\n",
       "      <td>360010001001004</td>\n",
       "      <td>360010137054014</td>\n",
       "      <td>1</td>\n",
       "      <td>001</td>\n",
       "    </tr>\n",
       "    <tr>\n",
       "      <th>1</th>\n",
       "      <td>360010001001004</td>\n",
       "      <td>360010138023000</td>\n",
       "      <td>1</td>\n",
       "      <td>001</td>\n",
       "    </tr>\n",
       "    <tr>\n",
       "      <th>2</th>\n",
       "      <td>360010001001004</td>\n",
       "      <td>360830522041091</td>\n",
       "      <td>1</td>\n",
       "      <td>001</td>\n",
       "    </tr>\n",
       "    <tr>\n",
       "      <th>3</th>\n",
       "      <td>360010001001004</td>\n",
       "      <td>360910627001014</td>\n",
       "      <td>1</td>\n",
       "      <td>001</td>\n",
       "    </tr>\n",
       "    <tr>\n",
       "      <th>4</th>\n",
       "      <td>360010001001005</td>\n",
       "      <td>360010001001023</td>\n",
       "      <td>1</td>\n",
       "      <td>001</td>\n",
       "    </tr>\n",
       "  </tbody>\n",
       "</table>\n",
       "</div>"
      ],
      "text/plain": [
       "         w_geocode        h_geocode  S000 w_county_code\n",
       "0  360010001001004  360010137054014     1           001\n",
       "1  360010001001004  360010138023000     1           001\n",
       "2  360010001001004  360830522041091     1           001\n",
       "3  360010001001004  360910627001014     1           001\n",
       "4  360010001001005  360010001001023     1           001"
      ]
     },
     "execution_count": 16,
     "metadata": {},
     "output_type": "execute_result"
    }
   ],
   "source": [
    "LEHD_complete.head()"
   ]
  },
  {
   "cell_type": "code",
   "execution_count": 17,
   "metadata": {
    "collapsed": false
   },
   "outputs": [
    {
     "name": "stdout",
     "output_type": "stream",
     "text": [
      "3352852 7673034\n"
     ]
    }
   ],
   "source": [
    "counties_NYC=['085','081','005','047','061']\n",
    "mask1=map(lambda x: x in counties_NYC,LEHD_complete.w_county_code) \n",
    "LEHD_NYC=LEHD_complete[mask1]\n",
    "print len(LEHD_NYC), len(LEHD_complete)"
   ]
  },
  {
   "cell_type": "markdown",
   "metadata": {},
   "source": [
    "The goal now is to know which origin census tracts are outside New York City, and where are they located. First, I am going to group by county of origin and count how many workers come from each county."
   ]
  },
  {
   "cell_type": "code",
   "execution_count": 18,
   "metadata": {
    "collapsed": true
   },
   "outputs": [],
   "source": [
    "#SINCE there are states with state code less than 10, I will create filters for those.\n",
    "def state_func(st):\n",
    "    if len(str(st))==15:\n",
    "        return str(st)[0:2]\n",
    "    else:\n",
    "        return str(st)[0:1]\n",
    "def county_func(st):\n",
    "    if len(str(st))==15:\n",
    "        return str(st)[2:5]\n",
    "    else:\n",
    "        return str(st)[1:4]\n",
    "def ct_func(st):\n",
    "    if len(str(st))==15:\n",
    "        return str(st)[5:11]\n",
    "    else:\n",
    "        return str(st)[4:10]"
   ]
  },
  {
   "cell_type": "code",
   "execution_count": 19,
   "metadata": {
    "collapsed": false
   },
   "outputs": [],
   "source": [
    "LEHD_complete['w_ct_code']=map(lambda x: str(x)[5:11],LEHD_complete.w_geocode)     #destination census tract\n",
    "LEHD_complete['h_state_code']=map(lambda x: state_func(x),LEHD_complete.h_geocode)    #origin state code\n",
    "LEHD_complete['h_county_code']=map(lambda x:  county_func(x),LEHD_complete.h_geocode)  #origin county code\n",
    "LEHD_complete['h_ct_code']=map(lambda x: ct_func(x),LEHD_complete.h_geocode)     #origin census tract\n"
   ]
  },
  {
   "cell_type": "code",
   "execution_count": 20,
   "metadata": {
    "collapsed": true
   },
   "outputs": [],
   "source": [
    "#LEHD_complete['w_ct_code']=map(lambda x: str(x)[5:11],LEHD_complete.w_geocode)     #destination census tract\n",
    "#LEHD_complete['h_state_code']=map(lambda x: str(x)[0:2],LEHD_complete.h_geocode)    #origin state code\n",
    "#LEHD_complete['h_county_code']=map(lambda x: str(x)[2:5],LEHD_complete.h_geocode)  #origin county code\n",
    "#LEHD_complete['h_ct_code']=map(lambda x: str(x)[5:11],LEHD_complete.h_geocode)     #origin census tract\n"
   ]
  },
  {
   "cell_type": "code",
   "execution_count": 21,
   "metadata": {
    "collapsed": false
   },
   "outputs": [
    {
     "data": {
      "text/html": [
       "<div>\n",
       "<table border=\"1\" class=\"dataframe\">\n",
       "  <thead>\n",
       "    <tr style=\"text-align: right;\">\n",
       "      <th></th>\n",
       "      <th>w_geocode</th>\n",
       "      <th>h_geocode</th>\n",
       "      <th>S000</th>\n",
       "      <th>w_county_code</th>\n",
       "      <th>w_ct_code</th>\n",
       "      <th>h_state_code</th>\n",
       "      <th>h_county_code</th>\n",
       "      <th>h_ct_code</th>\n",
       "    </tr>\n",
       "  </thead>\n",
       "  <tbody>\n",
       "    <tr>\n",
       "      <th>0</th>\n",
       "      <td>360010001001004</td>\n",
       "      <td>360010137054014</td>\n",
       "      <td>1</td>\n",
       "      <td>001</td>\n",
       "      <td>000100</td>\n",
       "      <td>36</td>\n",
       "      <td>001</td>\n",
       "      <td>013705</td>\n",
       "    </tr>\n",
       "    <tr>\n",
       "      <th>1</th>\n",
       "      <td>360010001001004</td>\n",
       "      <td>360010138023000</td>\n",
       "      <td>1</td>\n",
       "      <td>001</td>\n",
       "      <td>000100</td>\n",
       "      <td>36</td>\n",
       "      <td>001</td>\n",
       "      <td>013802</td>\n",
       "    </tr>\n",
       "    <tr>\n",
       "      <th>2</th>\n",
       "      <td>360010001001004</td>\n",
       "      <td>360830522041091</td>\n",
       "      <td>1</td>\n",
       "      <td>001</td>\n",
       "      <td>000100</td>\n",
       "      <td>36</td>\n",
       "      <td>083</td>\n",
       "      <td>052204</td>\n",
       "    </tr>\n",
       "    <tr>\n",
       "      <th>3</th>\n",
       "      <td>360010001001004</td>\n",
       "      <td>360910627001014</td>\n",
       "      <td>1</td>\n",
       "      <td>001</td>\n",
       "      <td>000100</td>\n",
       "      <td>36</td>\n",
       "      <td>091</td>\n",
       "      <td>062700</td>\n",
       "    </tr>\n",
       "    <tr>\n",
       "      <th>4</th>\n",
       "      <td>360010001001005</td>\n",
       "      <td>360010001001023</td>\n",
       "      <td>1</td>\n",
       "      <td>001</td>\n",
       "      <td>000100</td>\n",
       "      <td>36</td>\n",
       "      <td>001</td>\n",
       "      <td>000100</td>\n",
       "    </tr>\n",
       "  </tbody>\n",
       "</table>\n",
       "</div>"
      ],
      "text/plain": [
       "         w_geocode        h_geocode  S000 w_county_code w_ct_code  \\\n",
       "0  360010001001004  360010137054014     1           001    000100   \n",
       "1  360010001001004  360010138023000     1           001    000100   \n",
       "2  360010001001004  360830522041091     1           001    000100   \n",
       "3  360010001001004  360910627001014     1           001    000100   \n",
       "4  360010001001005  360010001001023     1           001    000100   \n",
       "\n",
       "  h_state_code h_county_code h_ct_code  \n",
       "0           36           001    013705  \n",
       "1           36           001    013802  \n",
       "2           36           083    052204  \n",
       "3           36           091    062700  \n",
       "4           36           001    000100  "
      ]
     },
     "execution_count": 21,
     "metadata": {},
     "output_type": "execute_result"
    }
   ],
   "source": [
    "LEHD_complete.head()"
   ]
  },
  {
   "cell_type": "code",
   "execution_count": 22,
   "metadata": {
    "collapsed": true
   },
   "outputs": [],
   "source": [
    "origin_by_county=LEHD_complete[['h_state_code','h_county_code','S000']]"
   ]
  },
  {
   "cell_type": "code",
   "execution_count": 23,
   "metadata": {
    "collapsed": false
   },
   "outputs": [
    {
     "name": "stderr",
     "output_type": "stream",
     "text": [
      "C:\\Users\\Marco\\Anaconda\\lib\\site-packages\\IPython\\kernel\\__main__.py:1: SettingWithCopyWarning: \n",
      "A value is trying to be set on a copy of a slice from a DataFrame.\n",
      "Try using .loc[row_indexer,col_indexer] = value instead\n",
      "\n",
      "See the the caveats in the documentation: http://pandas.pydata.org/pandas-docs/stable/indexing.html#indexing-view-versus-copy\n",
      "  if __name__ == '__main__':\n"
     ]
    }
   ],
   "source": [
    "origin_by_county['county_code']=origin_by_county.h_state_code+origin_by_county.h_county_code"
   ]
  },
  {
   "cell_type": "code",
   "execution_count": 24,
   "metadata": {
    "collapsed": true
   },
   "outputs": [],
   "source": [
    "or_by_county=origin_by_county.groupby('county_code').sum().reset_index()"
   ]
  },
  {
   "cell_type": "code",
   "execution_count": 25,
   "metadata": {
    "collapsed": true
   },
   "outputs": [],
   "source": [
    "def state_func(st):\n",
    "    if len(str(st))==5:\n",
    "        return str(st)[0:2]\n",
    "    else:\n",
    "        return str(st)[0:1]\n",
    "def county_func(st):\n",
    "    if len(str(st))==5:\n",
    "        return str(st)[2:5]\n",
    "    else:\n",
    "        return str(st)[1:4]"
   ]
  },
  {
   "cell_type": "code",
   "execution_count": 26,
   "metadata": {
    "collapsed": true
   },
   "outputs": [],
   "source": [
    "or_by_county['state_number']=map(lambda x: state_func(x),or_by_county.county_code)  \n",
    "or_by_county['county_number']=map(lambda x: county_func(x),or_by_county.county_code)  "
   ]
  },
  {
   "cell_type": "code",
   "execution_count": 27,
   "metadata": {
    "collapsed": false
   },
   "outputs": [],
   "source": [
    "or_by_state=or_by_county.groupby('state_number').sum().reset_index()"
   ]
  },
  {
   "cell_type": "code",
   "execution_count": 28,
   "metadata": {
    "collapsed": false
   },
   "outputs": [],
   "source": [
    "#or_by_state.sort(columns='S000',ascending=False)"
   ]
  },
  {
   "cell_type": "markdown",
   "metadata": {},
   "source": [
    "A refference with the states and its number on census can be find at: http://www2.census.gov/geo/docs/reference/state.txt"
   ]
  },
  {
   "cell_type": "code",
   "execution_count": 29,
   "metadata": {
    "collapsed": true
   },
   "outputs": [],
   "source": [
    "#According to this calculations, the states with more workers commuting to NYC everyday are: \n",
    "#36\t8097590 NY\n",
    "#34\t469113 NJ\n",
    "#9\t89699 CT\n",
    "#42\t69146 PA\n",
    "#25\t25410 MA"
   ]
  },
  {
   "cell_type": "code",
   "execution_count": null,
   "metadata": {
    "collapsed": false
   },
   "outputs": [
    {
     "data": {
      "text/html": [
       "<div>\n",
       "<table border=\"1\" class=\"dataframe\">\n",
       "  <thead>\n",
       "    <tr style=\"text-align: right;\">\n",
       "      <th></th>\n",
       "      <th>county_code</th>\n",
       "      <th>S000</th>\n",
       "      <th>state_number</th>\n",
       "      <th>county_number</th>\n",
       "    </tr>\n",
       "  </thead>\n",
       "  <tbody>\n",
       "    <tr>\n",
       "      <th>0</th>\n",
       "      <td>10001</td>\n",
       "      <td>474</td>\n",
       "      <td>10</td>\n",
       "      <td>001</td>\n",
       "    </tr>\n",
       "    <tr>\n",
       "      <th>1</th>\n",
       "      <td>10003</td>\n",
       "      <td>1748</td>\n",
       "      <td>10</td>\n",
       "      <td>003</td>\n",
       "    </tr>\n",
       "    <tr>\n",
       "      <th>2</th>\n",
       "      <td>10005</td>\n",
       "      <td>618</td>\n",
       "      <td>10</td>\n",
       "      <td>005</td>\n",
       "    </tr>\n",
       "    <tr>\n",
       "      <th>3</th>\n",
       "      <td>1001</td>\n",
       "      <td>2</td>\n",
       "      <td>1</td>\n",
       "      <td>001</td>\n",
       "    </tr>\n",
       "    <tr>\n",
       "      <th>4</th>\n",
       "      <td>1003</td>\n",
       "      <td>19</td>\n",
       "      <td>1</td>\n",
       "      <td>003</td>\n",
       "    </tr>\n",
       "  </tbody>\n",
       "</table>\n",
       "</div>"
      ],
      "text/plain": [
       "  county_code  S000 state_number county_number\n",
       "0       10001   474           10           001\n",
       "1       10003  1748           10           003\n",
       "2       10005   618           10           005\n",
       "3        1001     2            1           001\n",
       "4        1003    19            1           003"
      ]
     },
     "execution_count": 30,
     "metadata": {},
     "output_type": "execute_result"
    }
   ],
   "source": [
    "or_by_county.head()"
   ]
  },
  {
   "cell_type": "markdown",
   "metadata": {},
   "source": [
    "Now, let's answer the question: How many workers do we lose if we only consider those 5 states: NY,NJ,CT,PA,MA"
   ]
  },
  {
   "cell_type": "code",
   "execution_count": null,
   "metadata": {
    "collapsed": false
   },
   "outputs": [
    {
     "name": "stdout",
     "output_type": "stream",
     "text": [
      "7603524 7673034\n"
     ]
    }
   ],
   "source": [
    "states_to_NYC=['36','34','9','42','25']\n",
    "mask2=map(lambda x: x in states_to_NYC,LEHD_complete.h_state_code) \n",
    "LEHD_complete2=LEHD_complete[mask2]\n",
    "print len(LEHD_complete2), len(LEHD_complete)"
   ]
  },
  {
   "cell_type": "code",
   "execution_count": null,
   "metadata": {
    "collapsed": false
   },
   "outputs": [
    {
     "data": {
      "text/plain": [
       "0.9058998044319887"
      ]
     },
     "execution_count": 32,
     "metadata": {},
     "output_type": "execute_result"
    }
   ],
   "source": [
    "((7673034.0-7603524.0)/7673034.0)*100"
   ]
  },
  {
   "cell_type": "markdown",
   "metadata": {},
   "source": [
    "That means that if we only consider Census Tract on those 5 states, we only lose 0.9% of the data"
   ]
  },
  {
   "cell_type": "markdown",
   "metadata": {},
   "source": [
    "Now, let's generate a list of the counties that are going to be needed in our study"
   ]
  },
  {
   "cell_type": "code",
   "execution_count": null,
   "metadata": {
    "collapsed": true
   },
   "outputs": [],
   "source": [
    "#Saving the progress so far\n",
    "LEHD_complete2.to_csv('LEHD_analysis_6_13.csv')"
   ]
  },
  {
   "cell_type": "code",
   "execution_count": null,
   "metadata": {
    "collapsed": false
   },
   "outputs": [],
   "source": [
    "dtype={'w_geocode': str, 'h_geocode': str, 'S000': np.int32, 'w_county_code': str,'w_ct_code':str, \n",
    "       'h_state_code': str, 'h_county_code': str, 'h_ct_code': str}\n",
    "\n",
    "LEHD_complete2=pd.read_csv('LEHD_analysis_6_13.csv',dtype=dtype)"
   ]
  },
  {
   "cell_type": "code",
   "execution_count": null,
   "metadata": {
    "collapsed": false
   },
   "outputs": [
    {
     "data": {
      "text/html": [
       "<div>\n",
       "<table border=\"1\" class=\"dataframe\">\n",
       "  <thead>\n",
       "    <tr style=\"text-align: right;\">\n",
       "      <th></th>\n",
       "      <th>Unnamed: 0</th>\n",
       "      <th>w_geocode</th>\n",
       "      <th>h_geocode</th>\n",
       "      <th>S000</th>\n",
       "      <th>w_county_code</th>\n",
       "      <th>w_ct_code</th>\n",
       "      <th>h_state_code</th>\n",
       "      <th>h_county_code</th>\n",
       "      <th>h_ct_code</th>\n",
       "    </tr>\n",
       "  </thead>\n",
       "  <tbody>\n",
       "    <tr>\n",
       "      <th>0</th>\n",
       "      <td>0</td>\n",
       "      <td>360010001001004</td>\n",
       "      <td>360010137054014</td>\n",
       "      <td>1</td>\n",
       "      <td>001</td>\n",
       "      <td>000100</td>\n",
       "      <td>36</td>\n",
       "      <td>001</td>\n",
       "      <td>013705</td>\n",
       "    </tr>\n",
       "    <tr>\n",
       "      <th>1</th>\n",
       "      <td>1</td>\n",
       "      <td>360010001001004</td>\n",
       "      <td>360010138023000</td>\n",
       "      <td>1</td>\n",
       "      <td>001</td>\n",
       "      <td>000100</td>\n",
       "      <td>36</td>\n",
       "      <td>001</td>\n",
       "      <td>013802</td>\n",
       "    </tr>\n",
       "    <tr>\n",
       "      <th>2</th>\n",
       "      <td>2</td>\n",
       "      <td>360010001001004</td>\n",
       "      <td>360830522041091</td>\n",
       "      <td>1</td>\n",
       "      <td>001</td>\n",
       "      <td>000100</td>\n",
       "      <td>36</td>\n",
       "      <td>083</td>\n",
       "      <td>052204</td>\n",
       "    </tr>\n",
       "    <tr>\n",
       "      <th>3</th>\n",
       "      <td>3</td>\n",
       "      <td>360010001001004</td>\n",
       "      <td>360910627001014</td>\n",
       "      <td>1</td>\n",
       "      <td>001</td>\n",
       "      <td>000100</td>\n",
       "      <td>36</td>\n",
       "      <td>091</td>\n",
       "      <td>062700</td>\n",
       "    </tr>\n",
       "    <tr>\n",
       "      <th>4</th>\n",
       "      <td>4</td>\n",
       "      <td>360010001001005</td>\n",
       "      <td>360010001001023</td>\n",
       "      <td>1</td>\n",
       "      <td>001</td>\n",
       "      <td>000100</td>\n",
       "      <td>36</td>\n",
       "      <td>001</td>\n",
       "      <td>000100</td>\n",
       "    </tr>\n",
       "  </tbody>\n",
       "</table>\n",
       "</div>"
      ],
      "text/plain": [
       "   Unnamed: 0        w_geocode        h_geocode  S000 w_county_code w_ct_code  \\\n",
       "0           0  360010001001004  360010137054014     1           001    000100   \n",
       "1           1  360010001001004  360010138023000     1           001    000100   \n",
       "2           2  360010001001004  360830522041091     1           001    000100   \n",
       "3           3  360010001001004  360910627001014     1           001    000100   \n",
       "4           4  360010001001005  360010001001023     1           001    000100   \n",
       "\n",
       "  h_state_code h_county_code h_ct_code  \n",
       "0           36           001    013705  \n",
       "1           36           001    013802  \n",
       "2           36           083    052204  \n",
       "3           36           091    062700  \n",
       "4           36           001    000100  "
      ]
     },
     "execution_count": 35,
     "metadata": {},
     "output_type": "execute_result"
    }
   ],
   "source": [
    "\n",
    "LEHD_complete2.head()"
   ]
  },
  {
   "cell_type": "code",
   "execution_count": null,
   "metadata": {
    "collapsed": false
   },
   "outputs": [
    {
     "name": "stderr",
     "output_type": "stream",
     "text": [
      "C:\\Users\\Marco\\Anaconda\\lib\\site-packages\\IPython\\kernel\\__main__.py:2: SettingWithCopyWarning: \n",
      "A value is trying to be set on a copy of a slice from a DataFrame.\n",
      "Try using .loc[row_indexer,col_indexer] = value instead\n",
      "\n",
      "See the the caveats in the documentation: http://pandas.pydata.org/pandas-docs/stable/indexing.html#indexing-view-versus-copy\n",
      "  from IPython.kernel.zmq import kernelapp as app\n"
     ]
    }
   ],
   "source": [
    "origin_by_county=LEHD_complete2[['h_state_code','h_county_code','S000']]\n",
    "origin_by_county['county_code']=origin_by_county.h_state_code+origin_by_county.h_county_code"
   ]
  },
  {
   "cell_type": "code",
   "execution_count": null,
   "metadata": {
    "collapsed": false
   },
   "outputs": [],
   "source": [
    "county_list={}\n",
    "for state in np.unique(origin_by_county.h_state_code):\n",
    "    origin_by_county_state=origin_by_county[origin_by_county.h_state_code==state]\n",
    "    county_list[state]=np.unique(origin_by_county_state.h_county_code)"
   ]
  },
  {
   "cell_type": "code",
   "execution_count": null,
   "metadata": {
    "collapsed": false
   },
   "outputs": [
    {
     "data": {
      "text/plain": [
       "{'25': array(['001', '003', '005', '007', '009', '011', '013', '015', '017',\n",
       "        '019', '021', '023', '025', '027'], dtype=object),\n",
       " '34': array(['001', '003', '005', '007', '009', '011', '013', '015', '017',\n",
       "        '019', '021', '023', '025', '027', '029', '031', '033', '035',\n",
       "        '037', '039', '041'], dtype=object),\n",
       " '36': array(['001', '003', '005', '007', '009', '011', '013', '015', '017',\n",
       "        '019', '021', '023', '025', '027', '029', '031', '033', '035',\n",
       "        '037', '039', '041', '043', '045', '047', '049', '051', '053',\n",
       "        '055', '057', '059', '061', '063', '065', '067', '069', '071',\n",
       "        '073', '075', '077', '079', '081', '083', '085', '087', '089',\n",
       "        '091', '093', '095', '097', '099', '101', '103', '105', '107',\n",
       "        '109', '111', '113', '115', '117', '119', '121', '123'], dtype=object),\n",
       " '42': array(['001', '003', '005', '007', '009', '011', '013', '015', '017',\n",
       "        '019', '021', '023', '025', '027', '029', '031', '033', '035',\n",
       "        '037', '039', '041', '043', '045', '047', '049', '051', '053',\n",
       "        '055', '057', '059', '061', '063', '065', '067', '069', '071',\n",
       "        '073', '075', '077', '079', '081', '083', '085', '087', '089',\n",
       "        '091', '093', '095', '097', '099', '101', '103', '105', '107',\n",
       "        '109', '111', '113', '115', '117', '119', '121', '123', '125',\n",
       "        '127', '129', '131', '133'], dtype=object),\n",
       " '9': array(['001', '003', '005', '007', '009', '011', '013', '015'], dtype=object)}"
      ]
     },
     "execution_count": 38,
     "metadata": {},
     "output_type": "execute_result"
    }
   ],
   "source": [
    "county_list"
   ]
  },
  {
   "cell_type": "markdown",
   "metadata": {},
   "source": [
    "New York Counties codes: http://library.columbia.edu/locations/dssc/data/nycounty_fips.html\n",
    "New Jersey Counties codes: https://www.epa.gov/enviro/county-fips-code-listing-state-new-jersey\n",
    "Connecticut Counties codes:"
   ]
  },
  {
   "cell_type": "code",
   "execution_count": null,
   "metadata": {
    "collapsed": false
   },
   "outputs": [
    {
     "data": {
      "text/plain": [
       "array(['25001', '25003', '25005', '25007', '25009', '25011', '25013',\n",
       "       '25015', '25017', '25019', '25021', '25023', '25025', '25027',\n",
       "       '34001', '34003', '34005', '34007', '34009', '34011', '34013',\n",
       "       '34015', '34017', '34019', '34021', '34023', '34025', '34027',\n",
       "       '34029', '34031', '34033', '34035', '34037', '34039', '34041',\n",
       "       '36001', '36003', '36005', '36007', '36009', '36011', '36013',\n",
       "       '36015', '36017', '36019', '36021', '36023', '36025', '36027',\n",
       "       '36029', '36031', '36033', '36035', '36037', '36039', '36041',\n",
       "       '36043', '36045', '36047', '36049', '36051', '36053', '36055',\n",
       "       '36057', '36059', '36061', '36063', '36065', '36067', '36069',\n",
       "       '36071', '36073', '36075', '36077', '36079', '36081', '36083',\n",
       "       '36085', '36087', '36089', '36091', '36093', '36095', '36097',\n",
       "       '36099', '36101', '36103', '36105', '36107', '36109', '36111',\n",
       "       '36113', '36115', '36117', '36119', '36121', '36123', '42001',\n",
       "       '42003', '42005', '42007', '42009', '42011', '42013', '42015',\n",
       "       '42017', '42019', '42021', '42023', '42025', '42027', '42029',\n",
       "       '42031', '42033', '42035', '42037', '42039', '42041', '42043',\n",
       "       '42045', '42047', '42049', '42051', '42053', '42055', '42057',\n",
       "       '42059', '42061', '42063', '42065', '42067', '42069', '42071',\n",
       "       '42073', '42075', '42077', '42079', '42081', '42083', '42085',\n",
       "       '42087', '42089', '42091', '42093', '42095', '42097', '42099',\n",
       "       '42101', '42103', '42105', '42107', '42109', '42111', '42113',\n",
       "       '42115', '42117', '42119', '42121', '42123', '42125', '42127',\n",
       "       '42129', '42131', '42133', '9001', '9003', '9005', '9007', '9009',\n",
       "       '9011', '9013', '9015'], dtype=object)"
      ]
     },
     "execution_count": 39,
     "metadata": {},
     "output_type": "execute_result"
    }
   ],
   "source": [
    "np.unique(origin_by_county['county_code'])"
   ]
  },
  {
   "cell_type": "markdown",
   "metadata": {},
   "source": [
    "The next step is to group the w_geocode and h_geocode by census tracts"
   ]
  },
  {
   "cell_type": "code",
   "execution_count": null,
   "metadata": {
    "collapsed": false
   },
   "outputs": [],
   "source": [
    "LEHD_complete2['w_geo_ct']='36'+LEHD_complete2.w_county_code+LEHD_complete2.w_ct_code\n",
    "LEHD_complete2['h_geo_ct']=LEHD_complete2.h_state_code+LEHD_complete2.h_county_code+LEHD_complete2.h_ct_code"
   ]
  },
  {
   "cell_type": "code",
   "execution_count": null,
   "metadata": {
    "collapsed": false
   },
   "outputs": [
    {
     "data": {
      "text/html": [
       "<div>\n",
       "<table border=\"1\" class=\"dataframe\">\n",
       "  <thead>\n",
       "    <tr style=\"text-align: right;\">\n",
       "      <th></th>\n",
       "      <th>Unnamed: 0</th>\n",
       "      <th>w_geocode</th>\n",
       "      <th>h_geocode</th>\n",
       "      <th>S000</th>\n",
       "      <th>w_county_code</th>\n",
       "      <th>w_ct_code</th>\n",
       "      <th>h_state_code</th>\n",
       "      <th>h_county_code</th>\n",
       "      <th>h_ct_code</th>\n",
       "      <th>w_geo_ct</th>\n",
       "      <th>h_geo_ct</th>\n",
       "    </tr>\n",
       "  </thead>\n",
       "  <tbody>\n",
       "    <tr>\n",
       "      <th>0</th>\n",
       "      <td>0</td>\n",
       "      <td>360010001001004</td>\n",
       "      <td>360010137054014</td>\n",
       "      <td>1</td>\n",
       "      <td>001</td>\n",
       "      <td>000100</td>\n",
       "      <td>36</td>\n",
       "      <td>001</td>\n",
       "      <td>013705</td>\n",
       "      <td>36001000100</td>\n",
       "      <td>36001013705</td>\n",
       "    </tr>\n",
       "    <tr>\n",
       "      <th>1</th>\n",
       "      <td>1</td>\n",
       "      <td>360010001001004</td>\n",
       "      <td>360010138023000</td>\n",
       "      <td>1</td>\n",
       "      <td>001</td>\n",
       "      <td>000100</td>\n",
       "      <td>36</td>\n",
       "      <td>001</td>\n",
       "      <td>013802</td>\n",
       "      <td>36001000100</td>\n",
       "      <td>36001013802</td>\n",
       "    </tr>\n",
       "    <tr>\n",
       "      <th>2</th>\n",
       "      <td>2</td>\n",
       "      <td>360010001001004</td>\n",
       "      <td>360830522041091</td>\n",
       "      <td>1</td>\n",
       "      <td>001</td>\n",
       "      <td>000100</td>\n",
       "      <td>36</td>\n",
       "      <td>083</td>\n",
       "      <td>052204</td>\n",
       "      <td>36001000100</td>\n",
       "      <td>36083052204</td>\n",
       "    </tr>\n",
       "    <tr>\n",
       "      <th>3</th>\n",
       "      <td>3</td>\n",
       "      <td>360010001001004</td>\n",
       "      <td>360910627001014</td>\n",
       "      <td>1</td>\n",
       "      <td>001</td>\n",
       "      <td>000100</td>\n",
       "      <td>36</td>\n",
       "      <td>091</td>\n",
       "      <td>062700</td>\n",
       "      <td>36001000100</td>\n",
       "      <td>36091062700</td>\n",
       "    </tr>\n",
       "    <tr>\n",
       "      <th>4</th>\n",
       "      <td>4</td>\n",
       "      <td>360010001001005</td>\n",
       "      <td>360010001001023</td>\n",
       "      <td>1</td>\n",
       "      <td>001</td>\n",
       "      <td>000100</td>\n",
       "      <td>36</td>\n",
       "      <td>001</td>\n",
       "      <td>000100</td>\n",
       "      <td>36001000100</td>\n",
       "      <td>36001000100</td>\n",
       "    </tr>\n",
       "  </tbody>\n",
       "</table>\n",
       "</div>"
      ],
      "text/plain": [
       "   Unnamed: 0        w_geocode        h_geocode  S000 w_county_code w_ct_code  \\\n",
       "0           0  360010001001004  360010137054014     1           001    000100   \n",
       "1           1  360010001001004  360010138023000     1           001    000100   \n",
       "2           2  360010001001004  360830522041091     1           001    000100   \n",
       "3           3  360010001001004  360910627001014     1           001    000100   \n",
       "4           4  360010001001005  360010001001023     1           001    000100   \n",
       "\n",
       "  h_state_code h_county_code h_ct_code     w_geo_ct     h_geo_ct  \n",
       "0           36           001    013705  36001000100  36001013705  \n",
       "1           36           001    013802  36001000100  36001013802  \n",
       "2           36           083    052204  36001000100  36083052204  \n",
       "3           36           091    062700  36001000100  36091062700  \n",
       "4           36           001    000100  36001000100  36001000100  "
      ]
     },
     "execution_count": 41,
     "metadata": {},
     "output_type": "execute_result"
    }
   ],
   "source": [
    "LEHD_complete2.head()"
   ]
  },
  {
   "cell_type": "code",
   "execution_count": null,
   "metadata": {
    "collapsed": false
   },
   "outputs": [
    {
     "data": {
      "text/html": [
       "<div>\n",
       "<table border=\"1\" class=\"dataframe\">\n",
       "  <thead>\n",
       "    <tr style=\"text-align: right;\">\n",
       "      <th></th>\n",
       "      <th>w_geo_ct</th>\n",
       "      <th>h_geo_ct</th>\n",
       "      <th>S000</th>\n",
       "    </tr>\n",
       "  </thead>\n",
       "  <tbody>\n",
       "    <tr>\n",
       "      <th>0</th>\n",
       "      <td>36001000100</td>\n",
       "      <td>25003900100</td>\n",
       "      <td>2</td>\n",
       "    </tr>\n",
       "    <tr>\n",
       "      <th>1</th>\n",
       "      <td>36001000100</td>\n",
       "      <td>25003900300</td>\n",
       "      <td>4</td>\n",
       "    </tr>\n",
       "    <tr>\n",
       "      <th>2</th>\n",
       "      <td>36001000100</td>\n",
       "      <td>25003900400</td>\n",
       "      <td>2</td>\n",
       "    </tr>\n",
       "    <tr>\n",
       "      <th>3</th>\n",
       "      <td>36001000100</td>\n",
       "      <td>25003900500</td>\n",
       "      <td>1</td>\n",
       "    </tr>\n",
       "    <tr>\n",
       "      <th>4</th>\n",
       "      <td>36001000100</td>\n",
       "      <td>25003900800</td>\n",
       "      <td>1</td>\n",
       "    </tr>\n",
       "  </tbody>\n",
       "</table>\n",
       "</div>"
      ],
      "text/plain": [
       "      w_geo_ct     h_geo_ct  S000\n",
       "0  36001000100  25003900100     2\n",
       "1  36001000100  25003900300     4\n",
       "2  36001000100  25003900400     2\n",
       "3  36001000100  25003900500     1\n",
       "4  36001000100  25003900800     1"
      ]
     },
     "execution_count": 42,
     "metadata": {},
     "output_type": "execute_result"
    }
   ],
   "source": [
    "grouped_data=LEHD_complete2.groupby(['w_geo_ct','h_geo_ct']).sum().reset_index().drop('Unnamed: 0',axis=1)\n",
    "grouped_data.head()"
   ]
  },
  {
   "cell_type": "code",
   "execution_count": null,
   "metadata": {
    "collapsed": true
   },
   "outputs": [],
   "source": [
    "#saving progress\n",
    "grouped_data.to_csv('outputs/LEHD_analysis/LEHD_by_CT.csv')"
   ]
  },
  {
   "cell_type": "markdown",
   "metadata": {},
   "source": [
    "Now, the census data will be imported"
   ]
  },
  {
   "cell_type": "code",
   "execution_count": null,
   "metadata": {
    "collapsed": false
   },
   "outputs": [
    {
     "data": {
      "text/html": [
       "<div>\n",
       "<table border=\"1\" class=\"dataframe\">\n",
       "  <thead>\n",
       "    <tr style=\"text-align: right;\">\n",
       "      <th></th>\n",
       "      <th>w_geo_ct</th>\n",
       "      <th>h_geo_ct</th>\n",
       "      <th>S000</th>\n",
       "    </tr>\n",
       "  </thead>\n",
       "  <tbody>\n",
       "    <tr>\n",
       "      <th>0</th>\n",
       "      <td>36001000100</td>\n",
       "      <td>25003900100</td>\n",
       "      <td>2</td>\n",
       "    </tr>\n",
       "    <tr>\n",
       "      <th>1</th>\n",
       "      <td>36001000100</td>\n",
       "      <td>25003900300</td>\n",
       "      <td>4</td>\n",
       "    </tr>\n",
       "    <tr>\n",
       "      <th>2</th>\n",
       "      <td>36001000100</td>\n",
       "      <td>25003900400</td>\n",
       "      <td>2</td>\n",
       "    </tr>\n",
       "    <tr>\n",
       "      <th>3</th>\n",
       "      <td>36001000100</td>\n",
       "      <td>25003900500</td>\n",
       "      <td>1</td>\n",
       "    </tr>\n",
       "    <tr>\n",
       "      <th>4</th>\n",
       "      <td>36001000100</td>\n",
       "      <td>25003900800</td>\n",
       "      <td>1</td>\n",
       "    </tr>\n",
       "  </tbody>\n",
       "</table>\n",
       "</div>"
      ],
      "text/plain": [
       "      w_geo_ct     h_geo_ct  S000\n",
       "0  36001000100  25003900100     2\n",
       "1  36001000100  25003900300     4\n",
       "2  36001000100  25003900400     2\n",
       "3  36001000100  25003900500     1\n",
       "4  36001000100  25003900800     1"
      ]
     },
     "execution_count": 44,
     "metadata": {},
     "output_type": "execute_result"
    }
   ],
   "source": [
    "grouped_data=pd.read_csv('outputs/LEHD_analysis/LEHD_by_CT.csv').drop('Unnamed: 0',axis=1)\n",
    "grouped_data.head()"
   ]
  },
  {
   "cell_type": "code",
   "execution_count": null,
   "metadata": {
    "collapsed": false
   },
   "outputs": [],
   "source": [
    "#file with features for census tracts inside NYC\n",
    "demographics_CT_NYC_residents=pd.read_csv('datasets/emographics_CT_NYC_residents.csv')\n",
    "demographics_CT_outNY=pd.read_csv('datasets/demographics_CT_outNY.csv')"
   ]
  },
  {
   "cell_type": "code",
   "execution_count": null,
   "metadata": {
    "collapsed": false
   },
   "outputs": [],
   "source": [
    "demographics_CT_NYC_residents.drop('BoroCT2010',axis=1,inplace=True)"
   ]
  },
  {
   "cell_type": "code",
   "execution_count": null,
   "metadata": {
    "collapsed": false
   },
   "outputs": [],
   "source": [
    "demographics_CT_outNY.columns=demographics_CT_NYC_residents.columns"
   ]
  },
  {
   "cell_type": "code",
   "execution_count": null,
   "metadata": {
    "collapsed": false
   },
   "outputs": [],
   "source": [
    "demographics_all_CT=demographics_CT_NYC_residents.append(demographics_CT_outNY)\n",
    "print len(demographics_all_CT),len(demographics_CT_NYC_residents),len(demographics_CT_outNY)"
   ]
  },
  {
   "cell_type": "code",
   "execution_count": null,
   "metadata": {
    "collapsed": false
   },
   "outputs": [],
   "source": [
    "#from the demographics file, I will take only those census tracts that appear on  the LEHD file\n",
    "h_geo_ct_origins=pd.DataFrame(np.unique(grouped_data['h_geo_ct']),columns=['Geo_FIPS'])"
   ]
  },
  {
   "cell_type": "code",
   "execution_count": null,
   "metadata": {
    "collapsed": false
   },
   "outputs": [],
   "source": [
    "demographics_CT_origins=pd.merge(h_geo_ct_origins,demographics_all_CT,on='Geo_FIPS',how='inner')\n",
    "print len(h_geo_ct_origins),len(demographics_CT_origins), np.float(len(h_geo_ct_origins))/np.float(len(demographics_CT_origins))"
   ]
  },
  {
   "cell_type": "code",
   "execution_count": null,
   "metadata": {
    "collapsed": false
   },
   "outputs": [],
   "source": [
    "#demographics_CT_origins must be normalized (transformed into a probabilities matrix)\n",
    "demographics_CT_origins.to_csv('outputs/LEHD_analysis/demographics_CT_origins.csv')"
   ]
  },
  {
   "cell_type": "code",
   "execution_count": null,
   "metadata": {
    "collapsed": false
   },
   "outputs": [],
   "source": [
    "demographics_CT_origins_norm=pd.read_csv('outputs/LEHD_analysis/demographics_CT_origins.csv')\n",
    "demographics_CT_origins_norm.head()"
   ]
  },
  {
   "cell_type": "code",
   "execution_count": null,
   "metadata": {
    "collapsed": true
   },
   "outputs": [],
   "source": []
  },
  {
   "cell_type": "code",
   "execution_count": null,
   "metadata": {
    "collapsed": true
   },
   "outputs": [],
   "source": []
  },
  {
   "cell_type": "code",
   "execution_count": null,
   "metadata": {
    "collapsed": false
   },
   "outputs": [],
   "source": [
    "#demographics_CT_origins=demographics_CT_origins.rename(columns={'Geo_FIPS':'h_geo_ct'})\n",
    "#pre_working_demographics1=pd.merge(grouped_data,demographics_CT_origins,on='h_geo_ct',how='left')\n",
    "#print len(grouped_data),len(pre_working_demographics1)"
   ]
  },
  {
   "cell_type": "code",
   "execution_count": null,
   "metadata": {
    "collapsed": false
   },
   "outputs": [],
   "source": [
    "#get a colummn of the number (c) of workers going from h_geo to w_geo divided by the total working population in w_geo. \n",
    "#then c will be multiplied by the demographic indicators and summed\n",
    "df1=grouped_data.groupby('w_geo_ct').sum().reset_index().drop('h_geo_ct',axis=1).rename(columns={'S000':'total_workers_in_wgeo'})\n",
    "df2=pd.merge(grouped_data,df1,on='w_geo_ct',how='inner')\n",
    "#df2['coefficient_c']=df2['S000']/df2.total_workers_in_wgeo\n",
    "#df2.drop(['S000','total_workers_in_wgeo'],axis=1, inplace=True)\n",
    "df2.head()"
   ]
  },
  {
   "cell_type": "code",
   "execution_count": null,
   "metadata": {
    "collapsed": true
   },
   "outputs": [],
   "source": [
    "demographics_CT_origins_norm=demographics_CT_origins_norm.rename(columns={'Geo_FIPS':'h_geo_ct'})\n",
    "test2=pd.merge(df2,demographics_CT_origins_norm,on='h_geo_ct',how='left')"
   ]
  },
  {
   "cell_type": "code",
   "execution_count": null,
   "metadata": {
    "collapsed": false
   },
   "outputs": [],
   "source": [
    "test_dict={}\n",
    "result_dict={}\n",
    "for w_geo in np.unique(test2.w_geo_ct):\n",
    "    test_dict[w_geo]=test2[test2.w_geo_ct==w_geo].drop(['w_geo_ct','h_geo_ct'],axis=1).convert_objects(convert_numeric=True)\n",
    "    A=test_dict[w_geo]\n",
    "    B=A.drop(['S000','total_workers_in_wgeo'],axis=1)\n",
    "    B=B.multiply(A.S000, axis=0)\n",
    "    B['total workers']=A.S000\n",
    "    result_dict[w_geo]=B.sum()"
   ]
  },
  {
   "cell_type": "code",
   "execution_count": null,
   "metadata": {
    "collapsed": false
   },
   "outputs": [],
   "source": [
    "result_dict[36047044600]"
   ]
  },
  {
   "cell_type": "code",
   "execution_count": null,
   "metadata": {
    "collapsed": true
   },
   "outputs": [],
   "source": [
    "Z=pd.DataFrame(result_dict)"
   ]
  },
  {
   "cell_type": "code",
   "execution_count": null,
   "metadata": {
    "collapsed": false
   },
   "outputs": [],
   "source": [
    "Z2=Z.transpose().reset_index().rename(columns={'index':'Geo_FIPS'})\n",
    "Z2.to_csv('outputs/LEHD_analysis/demographics_CT_NYC_workers.csv')"
   ]
  },
  {
   "cell_type": "code",
   "execution_count": null,
   "metadata": {
    "collapsed": true
   },
   "outputs": [],
   "source": []
  },
  {
   "cell_type": "code",
   "execution_count": null,
   "metadata": {
    "collapsed": true
   },
   "outputs": [],
   "source": []
  },
  {
   "cell_type": "code",
   "execution_count": null,
   "metadata": {
    "collapsed": true
   },
   "outputs": [],
   "source": []
  }
 ],
 "metadata": {
  "kernelspec": {
   "display_name": "Python 2",
   "language": "python",
   "name": "python2"
  },
  "language_info": {
   "codemirror_mode": {
    "name": "ipython",
    "version": 2
   },
   "file_extension": ".py",
   "mimetype": "text/x-python",
   "name": "python",
   "nbconvert_exporter": "python",
   "pygments_lexer": "ipython2",
   "version": "2.7.11"
  }
 },
 "nbformat": 4,
 "nbformat_minor": 0
}
